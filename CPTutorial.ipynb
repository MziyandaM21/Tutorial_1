{
 "cells": [
  {
   "cell_type": "markdown",
   "metadata": {
    "collapsed": true
   },
   "source": [
    "## Mziyanda Mngqibisa\n",
    "## Stu Nu. 218085225"
   ]
  },
  {
   "cell_type": "code",
   "execution_count": 25,
   "metadata": {
    "collapsed": true
   },
   "outputs": [],
   "source": [
    "import numpy as np\n",
    "from scipy.integrate import quad,simps\n",
    "from matplotlib import pyplot as plt"
   ]
  },
  {
   "cell_type": "code",
   "execution_count": 31,
   "metadata": {},
   "outputs": [
    {
     "name": "stdout",
     "output_type": "stream",
     "text": [
      "[0.         0.15707963 0.31415927 0.4712389  0.62831853 0.78539816\n",
      " 0.9424778  1.09955743 1.25663706 1.41371669 1.57079633]\n"
     ]
    }
   ],
   "source": [
    "x = np.arange(0,(np.pi/2)+np.pi/20,np.pi/20)\n",
    "print(x)"
   ]
  },
  {
   "cell_type": "code",
   "execution_count": 32,
   "metadata": {},
   "outputs": [
    {
     "ename": "TypeError",
     "evalue": "'module' object is not callable",
     "output_type": "error",
     "traceback": [
      "\u001b[1;31m---------------------------------------------------------------------------\u001b[0m",
      "\u001b[1;31mTypeError\u001b[0m                                 Traceback (most recent call last)",
      "\u001b[1;32m<ipython-input-32-9c7313164846>\u001b[0m in \u001b[0;36m<module>\u001b[1;34m()\u001b[0m\n\u001b[1;32m----> 1\u001b[1;33m \u001b[0mintegral_quad\u001b[0m\u001b[1;33m,\u001b[0m\u001b[0merror\u001b[0m\u001b[1;33m=\u001b[0m\u001b[0mquad\u001b[0m\u001b[1;33m(\u001b[0m\u001b[0mnp\u001b[0m\u001b[1;33m.\u001b[0m\u001b[0mcos\u001b[0m\u001b[1;33m,\u001b[0m \u001b[1;36m0\u001b[0m\u001b[1;33m,\u001b[0m \u001b[0mnp\u001b[0m\u001b[1;33m.\u001b[0m\u001b[0mpi\u001b[0m\u001b[1;33m/\u001b[0m\u001b[1;36m2\u001b[0m\u001b[1;33m)\u001b[0m\u001b[1;33m\u001b[0m\u001b[0m\n\u001b[0m\u001b[0;32m      2\u001b[0m \u001b[0mprint\u001b[0m\u001b[1;33m(\u001b[0m\u001b[0mintegral_quad\u001b[0m\u001b[1;33m)\u001b[0m\u001b[1;33m\u001b[0m\u001b[0m\n",
      "\u001b[1;31mTypeError\u001b[0m: 'module' object is not callable"
     ]
    }
   ],
   "source": [
    "integral_quad,error=quad(np.cos, 0, np.pi/2)\n",
    "print(integral_quad)\n"
   ]
  },
  {
   "cell_type": "markdown",
   "metadata": {},
   "source": [
    "### Problem 3"
   ]
  },
  {
   "cell_type": "code",
   "execution_count": 33,
   "metadata": {
    "collapsed": true
   },
   "outputs": [],
   "source": [
    "def simple_integral(any_fuction,x_domain,dx):\n",
    "    y = any_fuction(x_domain)\n",
    "    total = sum(y)*dx\n",
    "    return total"
   ]
  },
  {
   "cell_type": "code",
   "execution_count": 51,
   "metadata": {},
   "outputs": [
    {
     "name": "stdout",
     "output_type": "stream",
     "text": [
      "The integral is 1.0764828026941022 using n =  10\n",
      "Error: 0.07648280269410224\n",
      "The integral is 1.0387558134184054 using n =  20\n",
      "Error: 0.038755813418405394\n",
      "The integral is 1.0156257152116703 using n =  50\n",
      "Error: 0.015625715211670332\n",
      "The integral is 1.0097853492175357 using n =  80\n",
      "Error: 0.00978534921753571\n",
      "The integral is 1.007833419873582 using n =  100\n",
      "Error: 0.007833419873582104\n",
      "The integral is 1.002615709246299 using n =  300\n",
      "Error: 0.0026157092462990583\n",
      "The integral is 1.0007851925466307 using n =  1000\n",
      "Error: 0.0007851925466306753\n",
      "The integral is 1.0003926476775094 using n =  2000\n",
      "Error: 0.00039264767750935015\n"
     ]
    }
   ],
   "source": [
    "dxs= [10,20,50,80,100,300,1000,2000]\n",
    "for i in dxs:\n",
    "    new_x = np.arange(0,(np.pi/2)+((np.pi/2)/(i)),(np.pi/2)/(i))\n",
    "    int_value = simple_integral(np.cos,new_x,(np.pi/2)/i)\n",
    "    int_error = int_value-1\n",
    "    print('The integral is',int_value,'using n = ',i)\n",
    "    print('Error:',int_error)"
   ]
  },
  {
   "cell_type": "markdown",
   "metadata": {},
   "source": [
    "* For the simple method $error\\propto n^{\\alpha}$ the error falls off linear with the number of points"
   ]
  },
  {
   "cell_type": "markdown",
   "metadata": {},
   "source": [
    "### Problem 4"
   ]
  },
  {
   "cell_type": "code",
   "execution_count": 52,
   "metadata": {},
   "outputs": [
    {
     "name": "stdout",
     "output_type": "stream",
     "text": [
      "[0.         0.15707963 0.31415927 0.4712389  0.62831853 0.78539816\n",
      " 0.9424778  1.09955743 1.25663706 1.41371669 1.57079633]\n",
      "[0.15707963 0.4712389  0.78539816 1.09955743 1.41371669]\n",
      "[0.31415927 0.62831853 0.9424778  1.25663706]\n"
     ]
    }
   ],
   "source": [
    "print(x)\n",
    "print(x[1::2])\n",
    "print(x[2:-1:2])"
   ]
  },
  {
   "cell_type": "markdown",
   "metadata": {},
   "source": [
    "### Problem 5\n",
    "$\\int_{a}^{b}f(x)dx = \\frac{h}{3}\\{f(x_{0})+2\\Sigma_{j=1}^{\\frac{n}{2}-1}+4\\Sigma_{j=1}^{\\frac{n}{2}}+f(x_{n})\\}$ where \n",
    "$h=\\frac{x_{n}-x_{0}}{n}$ and is the number of divisions"
   ]
  },
  {
   "cell_type": "code",
   "execution_count": 53,
   "metadata": {
    "collapsed": true
   },
   "outputs": [],
   "source": [
    "def simpson(f, x_domain):\n",
    "    n = len(x_domain)-1\n",
    "    h=(x_domain[-1]-x_domain[0])/n\n",
    "    even_sum=0\n",
    "    odd_sum=0\n",
    "    for j in range(2,n,2):\n",
    "        even_sum += f(x_domain[0]+(x_domain[j]))\n",
    "    for j in range(1,n+1,2):\n",
    "        odd_sum += f(x_domain[0]+(x_domain[j])) \n",
    "    return (h/3)*(f(x_domain[0])+f(x_domain[-1])+(2*even_sum+4*odd_sum))"
   ]
  },
  {
   "cell_type": "code",
   "execution_count": 55,
   "metadata": {},
   "outputs": [
    {
     "name": "stdout",
     "output_type": "stream",
     "text": [
      "My simpson rule 1.0000033922209004 error = 3.3922209004000337e-06\n",
      "Scipy simps rule 1.0000033922209004\n",
      "My simpson rule 1.0000002115465914 error = 2.115465913554715e-07\n",
      "Scipy simps rule 1.0000002115465916\n",
      "My simpson rule 1.0000000054122522 error = 5.412252201963952e-09\n",
      "Scipy simps rule 1.0000000054122522\n",
      "My simpson rule 1.000000000825785 error = 8.257849959392161e-10\n",
      "Scipy simps rule 1.0000000008257848\n",
      "My simpson rule 1.0000000003382357 error = 3.382361057902017e-10\n",
      "Scipy simps rule 1.0000000003382359\n",
      "My simpson rule 1.0000000000041755 error = 4.175770840220139e-12\n",
      "Scipy simps rule 1.0000000000041755\n",
      "My simpson rule 1.0000000000000333 error = 3.397282455352979e-14\n",
      "Scipy simps rule 1.0000000000000338\n",
      "My simpson rule 1.0000000000000033 error = 2.4424906541753444e-15\n",
      "Scipy simps rule 1.000000000000002\n"
     ]
    }
   ],
   "source": [
    "error_list = []\n",
    "for i in dxs:\n",
    "    new_x = np.arange(0,(np.pi/2)+((np.pi/2)/(i)),(np.pi/2)/(i))\n",
    "    error = abs(1-simpson(np.sin,new_x))\n",
    "    error_list.append(error)\n",
    "    print('My simpson rule',simpson(np.cos,new_x),'error =',error)\n",
    "    print('Scipy simps rule',simps(np.cos(new_x),new_x))\n",
    "    "
   ]
  },
  {
   "cell_type": "markdown",
   "metadata": {},
   "source": [
    "* For the simpson rule method $error\\propto n^{\\alpha}$ the error falls oof exponentially with the number of points"
   ]
  },
  {
   "cell_type": "markdown",
   "metadata": {},
   "source": [
    "### Problem 6"
   ]
  },
  {
   "cell_type": "code",
   "execution_count": 76,
   "metadata": {},
   "outputs": [
    {
     "data": {
      "image/png": "[encoded data removed]",
      "text/plain": [
       "<matplotlib.figure.Figure at 0x1bab63105c0>"
      ]
     },
     "metadata": {},
     "output_type": "display_data"
    }
   ],
   "source": [
    "plt.plot(error_list)\n",
    "plt.xlabel('Number of point')\n",
    "plt.ylabel('Error')\n",
    "plt.title('errors as a function of number of points')\n",
    "plt.yscale('log')\n",
    "plt.xscale('log')\n",
    "plt.show()"
   ]
  },
  {
   "cell_type": "markdown",
   "metadata": {},
   "source": [
    "### Bonus I don't get what we have to do!"
   ]
  },
  {
   "cell_type": "code",
   "execution_count": 22,
   "metadata": {},
   "outputs": [
    {
     "name": "stdout",
     "output_type": "stream",
     "text": [
      "41.0\n",
      "40.0\n"
     ]
    }
   ],
   "source": [
    "def mygauss(x,cent=0,sig=0.1):\n",
    "    y=numpy.exp(-0.5*(x-cent)**2/sig**2)\n",
    "    #pick this normalization so area under \n",
    "    #gaussian is one.  \n",
    "    y=1+y/numpy.sqrt(2*numpy.pi*sig**2)\n",
    "    return y\n",
    "val,err=quad.quad(mygauss,-20,20)\n",
    "print(val)\n",
    "val,err=quad.quad(mygauss,-25,15)\n",
    "print(val)\n",
    "\n"
   ]
  },
  {
   "cell_type": "code",
   "execution_count": null,
   "metadata": {
    "collapsed": true
   },
   "outputs": [],
   "source": []
  }
 ],
 "metadata": {
  "kernelspec": {
   "display_name": "Python 3",
   "language": "python",
   "name": "python3"
  },
  "language_info": {
   "codemirror_mode": {
    "name": "ipython",
    "version": 3
   },
   "file_extension": ".py",
   "mimetype": "text/x-python",
   "name": "python",
   "nbconvert_exporter": "python",
   "pygments_lexer": "ipython3",
   "version": "3.6.3"
  }
 },
 "nbformat": 4,
 "nbformat_minor": 2
}
